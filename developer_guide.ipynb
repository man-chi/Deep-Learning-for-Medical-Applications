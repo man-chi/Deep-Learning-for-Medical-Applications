{
  "nbformat": 4,
  "nbformat_minor": 0,
  "metadata": {
    "colab": {
      "provenance": [],
      "include_colab_link": true
    },
    "kernelspec": {
      "name": "python3",
      "display_name": "Python 3"
    },
    "accelerator": "GPU",
    "gpuClass": "standard"
  },
  "cells": [
    {
      "cell_type": "markdown",
      "metadata": {
        "id": "view-in-github",
        "colab_type": "text"
      },
      "source": [
        "<a href=\"https://colab.research.google.com/github/man-chi/Deep-Learning-for-Medical-Applications/blob/master/developer_guide.ipynb\" target=\"_parent\"><img src=\"https://colab.research.google.com/assets/colab-badge.svg\" alt=\"Open In Colab\"/></a>"
      ]
    },
    {
      "cell_type": "markdown",
      "metadata": {
        "id": "WLbIJbxGDC95"
      },
      "source": [
        "# MONAI for PyTorch users\n",
        "This tutorial briefly introduces MONAI APIs and highlights its flexibility and usability. It assumes basic understanding of PyTorch, and shows how MONAI provide domain-optimized capabilities for deep learning in healthcare imaging."
      ]
    },
    {
      "cell_type": "markdown",
      "metadata": {
        "id": "mQGI9QnZE37_"
      },
      "source": [
        "## Setup environment\n",
        "\n",
        "MONAI's core functionality is written in Python and only depends on Numpy and Pytorch.\n",
        "\n",
        "This section installs the latest version of MONAI and verifies the installation."
      ]
    },
    {
      "cell_type": "code",
      "metadata": {
        "id": "G8pKPruSCe0e",
        "colab": {
          "base_uri": "https://localhost:8080/"
        },
        "outputId": "058310a2-6749-4c9a-ad61-09bd68236b4a"
      },
      "source": [
        "# install the latest weekly preview version of MONAI\n",
        "%pip install \"monai-weekly[tqdm, nibabel, gdown, ignite]\""
      ],
      "execution_count": null,
      "outputs": [
        {
          "output_type": "stream",
          "name": "stdout",
          "text": [
            "Requirement already satisfied: monai-weekly[gdown,ignite,nibabel,tqdm] in /usr/local/lib/python3.10/dist-packages (1.3.dev2331)\n",
            "Requirement already satisfied: torch>=1.9 in /usr/local/lib/python3.10/dist-packages (from monai-weekly[gdown,ignite,nibabel,tqdm]) (2.0.1+cu118)\n",
            "Requirement already satisfied: numpy>=1.20 in /usr/local/lib/python3.10/dist-packages (from monai-weekly[gdown,ignite,nibabel,tqdm]) (1.22.4)\n",
            "Requirement already satisfied: nibabel in /usr/local/lib/python3.10/dist-packages (from monai-weekly[gdown,ignite,nibabel,tqdm]) (4.0.2)\n",
            "Requirement already satisfied: gdown>=4.4.0 in /usr/local/lib/python3.10/dist-packages (from monai-weekly[gdown,ignite,nibabel,tqdm]) (4.6.6)\n",
            "Requirement already satisfied: tqdm>=4.47.0 in /usr/local/lib/python3.10/dist-packages (from monai-weekly[gdown,ignite,nibabel,tqdm]) (4.65.0)\n",
            "Requirement already satisfied: pytorch-ignite==0.4.11 in /usr/local/lib/python3.10/dist-packages (from monai-weekly[gdown,ignite,nibabel,tqdm]) (0.4.11)\n",
            "Requirement already satisfied: packaging in /usr/local/lib/python3.10/dist-packages (from pytorch-ignite==0.4.11->monai-weekly[gdown,ignite,nibabel,tqdm]) (23.1)\n",
            "Requirement already satisfied: filelock in /usr/local/lib/python3.10/dist-packages (from gdown>=4.4.0->monai-weekly[gdown,ignite,nibabel,tqdm]) (3.12.2)\n",
            "Requirement already satisfied: requests[socks] in /usr/local/lib/python3.10/dist-packages (from gdown>=4.4.0->monai-weekly[gdown,ignite,nibabel,tqdm]) (2.27.1)\n",
            "Requirement already satisfied: six in /usr/local/lib/python3.10/dist-packages (from gdown>=4.4.0->monai-weekly[gdown,ignite,nibabel,tqdm]) (1.16.0)\n",
            "Requirement already satisfied: beautifulsoup4 in /usr/local/lib/python3.10/dist-packages (from gdown>=4.4.0->monai-weekly[gdown,ignite,nibabel,tqdm]) (4.11.2)\n",
            "Requirement already satisfied: typing-extensions in /usr/local/lib/python3.10/dist-packages (from torch>=1.9->monai-weekly[gdown,ignite,nibabel,tqdm]) (4.7.1)\n",
            "Requirement already satisfied: sympy in /usr/local/lib/python3.10/dist-packages (from torch>=1.9->monai-weekly[gdown,ignite,nibabel,tqdm]) (1.11.1)\n",
            "Requirement already satisfied: networkx in /usr/local/lib/python3.10/dist-packages (from torch>=1.9->monai-weekly[gdown,ignite,nibabel,tqdm]) (3.1)\n",
            "Requirement already satisfied: jinja2 in /usr/local/lib/python3.10/dist-packages (from torch>=1.9->monai-weekly[gdown,ignite,nibabel,tqdm]) (3.1.2)\n",
            "Requirement already satisfied: triton==2.0.0 in /usr/local/lib/python3.10/dist-packages (from torch>=1.9->monai-weekly[gdown,ignite,nibabel,tqdm]) (2.0.0)\n",
            "Requirement already satisfied: cmake in /usr/local/lib/python3.10/dist-packages (from triton==2.0.0->torch>=1.9->monai-weekly[gdown,ignite,nibabel,tqdm]) (3.25.2)\n",
            "Requirement already satisfied: lit in /usr/local/lib/python3.10/dist-packages (from triton==2.0.0->torch>=1.9->monai-weekly[gdown,ignite,nibabel,tqdm]) (16.0.6)\n",
            "Requirement already satisfied: setuptools in /usr/local/lib/python3.10/dist-packages (from nibabel->monai-weekly[gdown,ignite,nibabel,tqdm]) (67.7.2)\n",
            "Requirement already satisfied: soupsieve>1.2 in /usr/local/lib/python3.10/dist-packages (from beautifulsoup4->gdown>=4.4.0->monai-weekly[gdown,ignite,nibabel,tqdm]) (2.4.1)\n",
            "Requirement already satisfied: MarkupSafe>=2.0 in /usr/local/lib/python3.10/dist-packages (from jinja2->torch>=1.9->monai-weekly[gdown,ignite,nibabel,tqdm]) (2.1.3)\n",
            "Requirement already satisfied: urllib3<1.27,>=1.21.1 in /usr/local/lib/python3.10/dist-packages (from requests[socks]->gdown>=4.4.0->monai-weekly[gdown,ignite,nibabel,tqdm]) (1.26.16)\n",
            "Requirement already satisfied: certifi>=2017.4.17 in /usr/local/lib/python3.10/dist-packages (from requests[socks]->gdown>=4.4.0->monai-weekly[gdown,ignite,nibabel,tqdm]) (2023.7.22)\n",
            "Requirement already satisfied: charset-normalizer~=2.0.0 in /usr/local/lib/python3.10/dist-packages (from requests[socks]->gdown>=4.4.0->monai-weekly[gdown,ignite,nibabel,tqdm]) (2.0.12)\n",
            "Requirement already satisfied: idna<4,>=2.5 in /usr/local/lib/python3.10/dist-packages (from requests[socks]->gdown>=4.4.0->monai-weekly[gdown,ignite,nibabel,tqdm]) (3.4)\n",
            "Requirement already satisfied: PySocks!=1.5.7,>=1.5.6 in /usr/local/lib/python3.10/dist-packages (from requests[socks]->gdown>=4.4.0->monai-weekly[gdown,ignite,nibabel,tqdm]) (1.7.1)\n",
            "Requirement already satisfied: mpmath>=0.19 in /usr/local/lib/python3.10/dist-packages (from sympy->torch>=1.9->monai-weekly[gdown,ignite,nibabel,tqdm]) (1.3.0)\n"
          ]
        }
      ]
    },
    {
      "cell_type": "markdown",
      "source": [
        "## Setup imports"
      ],
      "metadata": {
        "id": "JP0pFAxW9VBx"
      }
    },
    {
      "cell_type": "code",
      "metadata": {
        "id": "8Akply-HeKHm",
        "colab": {
          "base_uri": "https://localhost:8080/"
        },
        "outputId": "f00d91c4-6d5e-4285-8f1f-7116a9603f10"
      },
      "source": [
        "import monai.transforms as mt\n",
        "import logging\n",
        "import sys\n",
        "import matplotlib.pyplot as plt\n",
        "import ignite\n",
        "import numpy as np\n",
        "import torch\n",
        "import monai\n",
        "import warnings\n",
        "\n",
        "warnings.filterwarnings(\"ignore\")  # remove some scikit-image warnings\n",
        "\n",
        "monai.config.print_config()"
      ],
      "execution_count": null,
      "outputs": [
        {
          "output_type": "stream",
          "name": "stdout",
          "text": [
            "MONAI version: 1.2.dev2309\n",
            "Numpy version: 1.22.4\n",
            "Pytorch version: 1.13.1+cu116\n",
            "MONAI flags: HAS_EXT = False, USE_COMPILED = False, USE_META_DICT = False\n",
            "MONAI rev id: c846c8badc019e158780b9f017b43d923f1f85d1\n",
            "MONAI __file__: /usr/local/lib/python3.8/dist-packages/monai/__init__.py\n",
            "\n",
            "Optional dependencies:\n",
            "Pytorch Ignite version: 0.4.10\n",
            "ITK version: NOT INSTALLED or UNKNOWN VERSION.\n",
            "Nibabel version: 3.0.2\n",
            "scikit-image version: 0.18.3\n",
            "Pillow version: 7.1.2\n",
            "Tensorboard version: 2.11.2\n",
            "gdown version: 4.4.0\n",
            "TorchVision version: 0.14.1+cu116\n",
            "tqdm version: 4.64.1\n",
            "lmdb version: 0.99\n",
            "psutil version: 5.4.8\n",
            "pandas version: 1.3.5\n",
            "einops version: NOT INSTALLED or UNKNOWN VERSION.\n",
            "transformers version: NOT INSTALLED or UNKNOWN VERSION.\n",
            "mlflow version: NOT INSTALLED or UNKNOWN VERSION.\n",
            "pynrrd version: NOT INSTALLED or UNKNOWN VERSION.\n",
            "\n",
            "For details about installing the optional dependencies, please visit:\n",
            "    https://docs.monai.io/en/latest/installation.html#installing-the-recommended-dependencies\n",
            "\n"
          ]
        }
      ]
    },
    {
      "cell_type": "markdown",
      "metadata": {
        "id": "yV7SEzjDF9-Q"
      },
      "source": [
        "## Access public medical imaging dataset in a few lines of code\n",
        "Using a publicly available benchmark is important for open and reproducible research. MONAI aims at providing quick access to the well-known public datasets. This section starts a dataset of [Medical Segmentation Decathlon](http://medicaldecathlon.com/).\n",
        "\n",
        "The `DecathlonDataset` object is a thin wrapper of `torch.data.utils.Dataset`.\n",
        "It has  `__getitem__` and `__len__` methods implemented, fully compatible with Pytorch's build-in data loader `torch.data.utils.DataLoader`.\n",
        "\n",
        "Compared with the PyTorch `Dataset` APIs, `DecathlonDataset` has the additional capabilities of\n",
        "- automatic downloading and unzipping data\n",
        "- caching of data as well as intermediate results of preprocessing\n",
        "- random splits of training, validation, and test\n"
      ]
    },
    {
      "cell_type": "code",
      "metadata": {
        "id": "wLSWNutZIDii",
        "colab": {
          "base_uri": "https://localhost:8080/"
        },
        "outputId": "4c3abeb1-d934-43b1-b6aa-37b1cdde8968"
      },
      "source": [
        "from monai.apps import DecathlonDataset\n",
        "\n",
        "dataset = DecathlonDataset(root_dir=\"./\", task=\"Task05_Prostate\", section=\"training\", transform=None, download=True)\n",
        "print(f\"\\nnumber of subjects: {len(dataset)}.\\nThe first element in the dataset is {dataset[0]}.\")"
      ],
      "execution_count": null,
      "outputs": [
        {
          "output_type": "stream",
          "name": "stderr",
          "text": [
            "Task05_Prostate.tar: 229MB [00:07, 32.7MB/s]                           "
          ]
        },
        {
          "output_type": "stream",
          "name": "stdout",
          "text": [
            "2023-02-27 10:12:49,000 - INFO - Downloaded: Task05_Prostate.tar\n"
          ]
        },
        {
          "output_type": "stream",
          "name": "stderr",
          "text": [
            "\n"
          ]
        },
        {
          "output_type": "stream",
          "name": "stdout",
          "text": [
            "2023-02-27 10:12:49,577 - INFO - Verified 'Task05_Prostate.tar', md5: 35138f08b1efaef89d7424d2bcc928db.\n",
            "2023-02-27 10:12:49,587 - INFO - Writing into directory: ..\n"
          ]
        },
        {
          "output_type": "stream",
          "name": "stderr",
          "text": [
            "Loading dataset: 100%|██████████| 26/26 [00:00<00:00, 175606.93it/s]"
          ]
        },
        {
          "output_type": "stream",
          "name": "stdout",
          "text": [
            "\n",
            "number of subjects: 26.\n",
            "The first element in the dataset is {'image': 'Task05_Prostate/imagesTr/prostate_46.nii.gz', 'label': 'Task05_Prostate/labelsTr/prostate_46.nii.gz'}.\n"
          ]
        },
        {
          "output_type": "stream",
          "name": "stderr",
          "text": [
            "\n"
          ]
        }
      ]
    },
    {
      "cell_type": "markdown",
      "metadata": {
        "id": "POwC6_uvLFtt"
      },
      "source": [
        "The code section has created a `DecathlonDataset` object by downloading \"Task05_Prostate.tar\" (`download=True`) from the public repository, unzipping it, and parsing the JSON file provided by the archive.\n",
        "\n",
        "This is a three-class segmentation task for delineating prostate transitional zone and peripheral zone (background, TZ, PZ classes).  The input has two modalities, that is, T2 and ADC MRI."
      ]
    },
    {
      "cell_type": "markdown",
      "metadata": {
        "id": "3yRel2e3hxLo"
      },
      "source": [
        "`len(dataset)` and `dataset[0]` queries the size of the dataset, and fetches the first element of the dataset respectively.  As we haven't specified any image transforms for the dataset, the outputs of this iterable dataset are just pairs of image and segmentation file names."
      ]
    },
    {
      "cell_type": "markdown",
      "metadata": {
        "id": "_aMAATwVKmJy"
      },
      "source": [
        "## Flexible image data transformations\n",
        "This section introduces MONAI transforms that convert the file names into data arrays in memory, which will be ready to be consumed by the deep learning models. More examples on the pre-processing pipelines are available in the [tutorials repository](https://github.com/Project-MONAI/tutorials):\n",
        "\n",
        "- [3d_image_transforms](3d_image_transforms.ipynb)\n",
        "- [transforms_update_meta_data](transforms_update_meta_data.ipynb)\n",
        "- [integrate_3rd_party_transforms](integrate_3rd_party_transforms.ipynb)\n",
        "\n",
        "Here we briefly cover the main features for image pre-processing."
      ]
    },
    {
      "cell_type": "markdown",
      "metadata": {
        "id": "s7xMT2cEjJbx"
      },
      "source": [
        "### Array vs. Dictionary-based transforms"
      ]
    },
    {
      "cell_type": "markdown",
      "metadata": {
        "id": "vtruH9sjmZBI"
      },
      "source": [
        "Array transforms are basic building blocks in MONAI, it is a simple callable similar to `torchvision.transforms`. Except for two differences:\n",
        "- MONAI transforms implements medical imaging specific processing functionality\n",
        "- MONAI transforms assumes that the inputs are numpy array, pytorch tensors or tensor-like objects\n",
        "\n",
        "The following starts a loader transform which converts a filename string into the actual image data.\n",
        "\n",
        "Please refer to [the documentation for more options](https://docs.monai.io/en/latest/transforms.html#monai.transforms.LoadImage) to this transform."
      ]
    },
    {
      "cell_type": "code",
      "metadata": {
        "id": "TE5Q8axDjHRQ",
        "colab": {
          "base_uri": "https://localhost:8080/"
        },
        "outputId": "542bcc26-5671-43ff-8cb0-675e73437730"
      },
      "source": [
        "loader = mt.LoadImage(image_only=True)\n",
        "img_array = loader(\"Task05_Prostate/imagesTr/prostate_02.nii.gz\")\n",
        "print(img_array.shape)"
      ],
      "execution_count": null,
      "outputs": [
        {
          "output_type": "stream",
          "name": "stdout",
          "text": [
            "torch.Size([320, 320, 24, 2])\n"
          ]
        }
      ]
    },
    {
      "cell_type": "markdown",
      "metadata": {
        "id": "AO-O5ZXFngUh"
      },
      "source": [
        "Dictionary transforms are nothing but wrappers of the array versions. Compared with their array-based counterparts, it's easier to apply the same type of operations or states to multiple data inputs.\n",
        "\n",
        "The following section reads a pair of image and segmentation mask, note that the `keys` need to be specified, so that the transforms know which items in the dictionary should be processed."
      ]
    },
    {
      "cell_type": "code",
      "metadata": {
        "id": "RryBbRnwMK8Y",
        "colab": {
          "base_uri": "https://localhost:8080/"
        },
        "outputId": "cea7b557-1d77-48b5-c5ee-844593453c3a"
      },
      "source": [
        "dict_loader = mt.LoadImageD(keys=(\"image\", \"label\"))\n",
        "data_dict = dict_loader(\n",
        "    {\"image\": \"Task05_Prostate/imagesTr/prostate_02.nii.gz\", \"label\": \"Task05_Prostate/labelsTr/prostate_02.nii.gz\"}\n",
        ")\n",
        "print(f\"image shape: {data_dict['image'].shape}, \\nlabel shape: {data_dict['label'].shape}\")"
      ],
      "execution_count": null,
      "outputs": [
        {
          "output_type": "stream",
          "name": "stdout",
          "text": [
            "image shape: torch.Size([320, 320, 24, 2]), \n",
            "label shape: torch.Size([320, 320, 24])\n"
          ]
        }
      ]
    },
    {
      "cell_type": "markdown",
      "source": [
        "By default, `LoadImage` returns a MONAI `MetaTensor` instance, which is a subclass of PyTorch Tensor.\n",
        "\n",
        "MONAI is in a unique position, leveraging the most advanced machine learning libraries,\n",
        "and focusing on medical image domain-specific features. `MetaTensor` is the core data structure, making the medical image metadata loosely coupled with image array data in a deep learning pipeline.\n",
        "\n",
        "MetaTensor is highly interoperable across Numpy and PyTorch APIs by design, and is supported by all MONAI transforms. For more information please see the tutorials:\n",
        "\n",
        "- [transforms_metatensor](transforms_metatensor.ipynb)"
      ],
      "metadata": {
        "id": "XF55CTcB9kMF"
      }
    },
    {
      "cell_type": "markdown",
      "metadata": {
        "id": "x7nKWpKPoNvF"
      },
      "source": [
        "### Compose the transforms"
      ]
    },
    {
      "cell_type": "markdown",
      "metadata": {
        "id": "qqsFxN84opS1"
      },
      "source": [
        "In many cases, it is beneficial to build a chain of transforms, tuning the preprocessing parameters, making fast preprocessing pipelines. `monai.transforms.Compose` is designed for these use cases.\n",
        "\n",
        "The following code starts a transform chain to do multiple pre-processing steps:\n",
        "- Load Nifti images (with image meta-data information)\n",
        "- Make both image and label channel-first (reshape the image and add a channel dimension for the label)\n",
        "- Make both image and label 1 millimeter isotropic\n",
        "- Make both image and label to be in the \"RAS\" coordinate system\n",
        "- Scale the image intensities\n",
        "- Resize both image and label to spatial size (64, 64, 32)-millimeters\n",
        "- Randomly rotate and scale the image, but keep the output size to be (64, 64, 32)-mm"
      ]
    },
    {
      "cell_type": "code",
      "metadata": {
        "id": "VdFXzJV-oNEM",
        "colab": {
          "base_uri": "https://localhost:8080/"
        },
        "outputId": "ba0218a3-c478-4c1d-8893-a29a72db9138"
      },
      "source": [
        "KEYS = (\"image\", \"label\")\n",
        "\n",
        "xform = mt.Compose(\n",
        "    [\n",
        "        mt.LoadImageD(KEYS),\n",
        "        mt.EnsureChannelFirstD(\"image\"),\n",
        "        mt.AddChannelD(\"label\"),\n",
        "        mt.OrientationD(KEYS, axcodes=\"RAS\"),\n",
        "        mt.SpacingD(KEYS, pixdim=(1.0, 1.0, 1.0), mode=(\"bilinear\", \"nearest\")),\n",
        "        mt.ScaleIntensityD(keys=\"image\"),\n",
        "        mt.ResizeD(KEYS, (64, 64, 32), mode=(\"trilinear\", \"nearest\")),\n",
        "        mt.RandAffineD(\n",
        "            KEYS,\n",
        "            spatial_size=(-1, -1, -1),\n",
        "            rotate_range=(0, 0, np.pi / 2),\n",
        "            scale_range=(0.1, 0.1),\n",
        "            mode=(\"bilinear\", \"nearest\"),\n",
        "            prob=1.0,\n",
        "        ),\n",
        "    ]\n",
        ")\n",
        "\n",
        "data_dict = xform(\n",
        "    {\"image\": \"Task05_Prostate/imagesTr/prostate_02.nii.gz\", \"label\": \"Task05_Prostate/labelsTr/prostate_02.nii.gz\"}\n",
        ")\n",
        "print(data_dict[\"image\"].shape, data_dict[\"label\"].shape)"
      ],
      "execution_count": null,
      "outputs": [
        {
          "output_type": "stream",
          "name": "stdout",
          "text": [
            "torch.Size([2, 64, 64, 32]) torch.Size([1, 64, 64, 32])\n"
          ]
        }
      ]
    },
    {
      "cell_type": "markdown",
      "metadata": {
        "id": "Lr91W7y0r-Xi"
      },
      "source": [
        "There are a set of useful transforms in MONAI, and many more to come.\n",
        "Please find out the details at https://docs.monai.io/en/latest/transforms.html"
      ]
    },
    {
      "cell_type": "markdown",
      "metadata": {
        "id": "HgSh9o-FsPHG"
      },
      "source": [
        "## Dataset, transform, and data loader\n",
        "To recap what we have:\n",
        "- Dataset: a thin wrapper of `torch.utils.data.Dataset`\n",
        "- Transform: a callable, can be a part of a transform chain made by `Compose`\n",
        "- Setting transforms to a dataset, will enable the data loading and preprocessing pipeline\n",
        "\n",
        "The pipeline can work with the pytorch native data loader, which provides multi-processing support and flexible batch sampling schemes.\n",
        "\n",
        "However, it is recommended to work with the MONAI data loader `monai.data.DataLoader`, which is a wrapper of the pytorch native. MONAI data loader mainly adds the capabilities of:\n",
        "- properly handling randomized augmentations in the multi-process contexts\n",
        "- customized collate functions to flatten multi-sample data list into individual training samples\n",
        "\n",
        "*The initialization of `DecathlonDataset` involves caching the (non-randomizable) transforms' results. It seems to be slow, but when using the initialized object for a training of multiple epochs, we effectively trade the space for much improved speed.*"
      ]
    },
    {
      "cell_type": "code",
      "metadata": {
        "id": "849czsBWt5yw",
        "colab": {
          "base_uri": "https://localhost:8080/"
        },
        "outputId": "cf872b4e-c834-4d8e-a300-16570ca91851"
      },
      "source": [
        "# start a chain of transforms\n",
        "xform = mt.Compose(\n",
        "    [\n",
        "        mt.LoadImageD(KEYS, image_only=True),\n",
        "        mt.EnsureChannelFirstD(\"image\"),\n",
        "        mt.AddChannelD(\"label\"),\n",
        "        mt.OrientationD(KEYS, axcodes=\"RAS\"),\n",
        "        mt.SpacingD(KEYS, pixdim=(1.0, 1.0, 1.0), mode=(\"bilinear\", \"nearest\")),\n",
        "        mt.ScaleIntensityD(keys=\"image\"),\n",
        "        mt.ResizeD(KEYS, (64, 64, 32), mode=(\"trilinear\", \"nearest\")),\n",
        "        mt.RandAffineD(\n",
        "            KEYS,\n",
        "            spatial_size=(-1, -1, -1),\n",
        "            rotate_range=(0, 0, np.pi / 2),\n",
        "            scale_range=(0.1, 0.1),\n",
        "            mode=(\"bilinear\", \"nearest\"),\n",
        "            prob=1.0,\n",
        "        ),\n",
        "    ]\n",
        ")\n",
        "# start a dataset\n",
        "dataset = monai.apps.DecathlonDataset(\n",
        "    root_dir=\"./\", task=\"Task05_Prostate\", section=\"training\", transform=xform, download=True\n",
        ")\n",
        "\n",
        "# start a pytorch dataloader\n",
        "# data_loader = torch.utils.data.DataLoader(dataset, batch_size=1, shuffle=False, num_workers=1)\n",
        "data_loader = monai.data.DataLoader(dataset, batch_size=1, shuffle=True, num_workers=1)"
      ],
      "execution_count": null,
      "outputs": [
        {
          "output_type": "stream",
          "name": "stdout",
          "text": [
            "2023-02-27 10:12:54,893 - INFO - Verified 'Task05_Prostate.tar', md5: 35138f08b1efaef89d7424d2bcc928db.\n",
            "2023-02-27 10:12:54,900 - INFO - File exists: Task05_Prostate.tar, skipped downloading.\n",
            "2023-02-27 10:12:54,905 - INFO - Non-empty folder exists in Task05_Prostate, skipped extracting.\n"
          ]
        },
        {
          "output_type": "stream",
          "name": "stderr",
          "text": [
            "Loading dataset: 100%|██████████| 26/26 [00:20<00:00,  1.28it/s]\n"
          ]
        }
      ]
    },
    {
      "cell_type": "markdown",
      "metadata": {
        "id": "r8C2LV75vptv"
      },
      "source": [
        "Take a peek at what's happening in the `data_dict` (rerun the following section will generate randomly augmented samples from the dataset):"
      ]
    },
    {
      "cell_type": "code",
      "metadata": {
        "id": "7IIQ8bvTvo97",
        "colab": {
          "base_uri": "https://localhost:8080/",
          "height": 185
        },
        "outputId": "00cd2ba1-2b85-4ceb-9965-963bc49f7194"
      },
      "source": [
        "data_dict = next(iter(data_loader))\n",
        "print(data_dict[\"image\"].shape, data_dict[\"label\"].shape, data_dict[\"image\"].meta[\"filename_or_obj\"])\n",
        "\n",
        "plt.subplots(1, 3)\n",
        "plt.subplot(1, 3, 1)\n",
        "plt.imshow(data_dict[\"image\"][0, 0, ..., 16])\n",
        "plt.subplot(1, 3, 2)\n",
        "plt.imshow(data_dict[\"image\"][0, 1, ..., 16])\n",
        "plt.subplot(1, 3, 3)\n",
        "plt.imshow(data_dict[\"label\"][0, 0, ..., 16])\n",
        "plt.show()\n",
        "\n",
        "print(f\"unique labels: {np.unique(data_dict['label'])}\")"
      ],
      "execution_count": null,
      "outputs": [
        {
          "output_type": "stream",
          "name": "stdout",
          "text": [
            "torch.Size([1, 2, 64, 64, 32]) torch.Size([1, 1, 64, 64, 32]) ['Task05_Prostate/imagesTr/prostate_13.nii.gz']\n"
          ]
        },
        {
          "output_type": "display_data",
          "data": {
            "text/plain": [
              "<Figure size 432x288 with 3 Axes>"
            ],
            "image/png": "[encoded data removed]"
          },
          "metadata": {
            "needs_background": "light"
          }
        },
        {
          "output_type": "stream",
          "name": "stdout",
          "text": [
            "unique labels: [0. 1. 2.]\n"
          ]
        }
      ]
    },
    {
      "cell_type": "markdown",
      "metadata": {
        "id": "1lGzy62hpPe4"
      },
      "source": [
        "The data loader has added a batch dimension to both image and label, so that they are ready for the deep learning models.\n",
        "\n",
        "Because \"nearest\" interpolation mode is used for the label, the number of unique classes is preserved during the transforms."
      ]
    },
    {
      "cell_type": "markdown",
      "metadata": {
        "id": "Ru4U1eCdVR4M"
      },
      "source": [
        "## Layers, blocks, networks and loss functions\n",
        "\n",
        "We've gone through the data input pipeline. the properly preprocessed data are ready for the 3-class segmentation task using two modalities inputs.\n",
        "\n",
        "This section creates a UNet model, as well as a loss function and optimizer.\n",
        "\n",
        "All these modules are direct uses or extensions of the PyTorch interfaces (such as `torch.nn.Module`). They could be replaced by any customized Python code, as long as the code also follows the standard PyTorch APIs.\n",
        "\n",
        "MONAI's modules focus on providing enhanced modules for medical images analysis:\n",
        "- implements reference networks with the aims of both flexibility and code readability\n",
        "- predefined layers and blocks which are compatible with 1D, 2D and 3D networks\n",
        "- domain-specific loss functions"
      ]
    },
    {
      "cell_type": "code",
      "metadata": {
        "id": "ns1P9hNNVZU5"
      },
      "source": [
        "device = torch.device(\"cuda:0\" if torch.cuda.is_available() else \"cpu\")\n",
        "net = monai.networks.nets.UNet(\n",
        "    spatial_dims=3,\n",
        "    in_channels=2,\n",
        "    out_channels=3,\n",
        "    channels=(16, 32, 64, 128, 256),\n",
        "    strides=(2, 2, 2, 2),\n",
        "    num_res_units=2,\n",
        "    norm=monai.networks.layers.Norm.BATCH,\n",
        ").to(device)\n",
        "loss = monai.losses.DiceLoss(to_onehot_y=True, softmax=True)\n",
        "opt = torch.optim.Adam(net.parameters(), 1e-2)"
      ],
      "execution_count": null,
      "outputs": []
    },
    {
      "cell_type": "markdown",
      "metadata": {
        "id": "y9cIBMY5ktcF"
      },
      "source": [
        "`UNet` is defined with a `spatial_dims` parameter. It specifies the number of spatial dimensions of the pytorch APIs, such as Conv1d, Conv2d and Conv3d. With the same implementation, it could be easily configured for 1D, 2D, 3D, and multi-modal training.\n",
        "\n",
        "`UNet` as an extension of `torch.nn.Module` is a set of MONAI blocks and layers organized in a specific way. The blocks and layers, such as commonly used combinations of \"Conv. + Feature Norm. + Activation\", are designed as reusable submodules."
      ]
    },
    {
      "cell_type": "markdown",
      "metadata": {
        "id": "XENK4QqZXeIl"
      },
      "source": [
        "## Sliding window inference\n",
        "For this commonly used module, MONAI provides a simple PyTorch based implementation, which only requires specifications of window size and a input model (which could be a `torch.nn.Module` implementation)."
      ]
    },
    {
      "cell_type": "markdown",
      "metadata": {
        "id": "69wwB8teaXdA"
      },
      "source": [
        "The following demo shows you a toy of sliding window inference on an input image of (1, 1, 200, 200) by aggregating (40, 40) spatial size windows running through all the spatial locations.\n",
        "\n",
        "You can change the `roi_size`, `sw_batch_size`, and `overlap` parameters to see their impacts on the sliding window outputs."
      ]
    },
    {
      "cell_type": "code",
      "metadata": {
        "id": "pYDG9BPHXlvC"
      },
      "source": [
        "from monai.inferers import SlidingWindowInferer\n",
        "\n",
        "class ToyModel:\n",
        "    # A simple model generates the output by adding an integer `pred` to input.\n",
        "    # each call of this instance increases the integer by 1.\n",
        "    pred = 0\n",
        "    def __call__(self, input):\n",
        "        self.pred = self.pred + 1\n",
        "        input = input + self.pred\n",
        "        return input\n",
        "\n",
        "infer = SlidingWindowInferer(roi_size=(40, 40), sw_batch_size=1, overlap=0)\n",
        "input_tensor = torch.zeros(1, 1, 200, 200)\n",
        "output_tensor = infer(input_tensor, ToyModel())"
      ],
      "execution_count": null,
      "outputs": []
    },
    {
      "cell_type": "code",
      "metadata": {
        "id": "xcP4zo65Y7m1",
        "colab": {
          "base_uri": "https://localhost:8080/",
          "height": 269
        },
        "outputId": "a0b21ae3-5232-4a47-ad85-daca012b155d"
      },
      "source": [
        "plt.imshow(output_tensor[0, 0]); plt.show()"
      ],
      "execution_count": null,
      "outputs": [
        {
          "output_type": "display_data",
          "data": {
            "text/plain": [
              "<Figure size 432x288 with 1 Axes>"
            ],
            "image/png": "[encoded data removed]"
          },
          "metadata": {
            "needs_background": "light"
          }
        }
      ]
    },
    {
      "cell_type": "markdown",
      "metadata": {
        "id": "meGyNoAbPYOu"
      },
      "source": [
        "## Start a training workflow (with validations at every epoch)\n",
        "\n",
        "The input pipeline, network architectures, loss functions are all compatible with any existing pytorch-based workflow. Please see the tutorials for different use cases:\n",
        "https://github.com/Project-MONAI/tutorials\n",
        "\n",
        "- [Array-based U-Net training example](../3d_segmentation/torch/unet_training_array.py)\n",
        "- [Dict-based U-Net training example](../3d_segmentation/torch/unet_training_dict.py)"
      ]
    },
    {
      "cell_type": "markdown",
      "metadata": {
        "id": "7xw-_DrKSZZz"
      },
      "source": [
        "\n",
        "Here we would like to highlight the workflow utilities, built by MONAI based on PyTorch-Ignite.  The main goal is to reduce user's efforts when building relatively standard training workflows."
      ]
    },
    {
      "cell_type": "code",
      "metadata": {
        "id": "kQnDhk3LPXj1",
        "colab": {
          "base_uri": "https://localhost:8080/"
        },
        "outputId": "ac92f094-ed5c-4220-de00-cd1a85fbe86b"
      },
      "source": [
        "import ignite\n",
        "print(ignite.__version__)"
      ],
      "execution_count": null,
      "outputs": [
        {
          "output_type": "stream",
          "name": "stdout",
          "text": [
            "0.4.10\n"
          ]
        }
      ]
    },
    {
      "cell_type": "markdown",
      "metadata": {
        "id": "kvn_6mf9gZoA"
      },
      "source": [
        "The following commands will start a `SupervisedTrainer` instance. As an extension of Pytorch ignite's facilities, it combines all the elements mentioned before. Calling `trainer.run()` will train the network for two epochs and compute `MeadDice` metric based on the training data at the end of every epoch.\n",
        "\n",
        "The `key_train_metric` is used to track the progress of model quality improvement. Additional handlers could be set to do early stopping and learning rate scheduling.\n",
        "\n",
        "The `StatsHandler` is triggered at each training iteration, to print diagnostic information to stdout.  These could be configured to generate detailed training logs at a user-specified frequency.\n",
        "\n",
        "For more information about the event handling system, please refer to the documentation https://docs.monai.io/en/latest/handlers.html.\n",
        "\n",
        "It is worth noting that these features facilitate fast prototyping of regular training and validation pipelines.  The users can always choose to build their own pipelines, benefiting from the modules mentioned in the previous sections."
      ]
    },
    {
      "cell_type": "code",
      "metadata": {
        "id": "bRLOKFnLvm3c",
        "colab": {
          "base_uri": "https://localhost:8080/"
        },
        "outputId": "3b91f1c1-e80a-459f-d367-91a1a42e2f1f"
      },
      "source": [
        "trainer = monai.engines.SupervisedTrainer(\n",
        "    device=device,\n",
        "    max_epochs=2,\n",
        "    train_data_loader=data_loader,\n",
        "    network=net,\n",
        "    optimizer=opt,\n",
        "    loss_function=loss,\n",
        "    # inferer=monai.inferers.SlidingWindowInferer((32, 32, -1), sw_batch_size=2),  # optionally using a sw inferer\n",
        "    postprocessing=mt.AsDiscreteD(keys=[\"pred\", \"label\"], argmax=(True, False), to_onehot=3),\n",
        "    key_train_metric={\n",
        "        \"train_meandice\": monai.handlers.MeanDice(output_transform=monai.handlers.from_engine([\"pred\", \"label\"]))\n",
        "    },\n",
        "    train_handlers=monai.handlers.StatsHandler(\n",
        "        tag_name=\"train_loss\", output_transform=monai.handlers.from_engine([\"loss\"], first=True), name=\"stats\"\n",
        "    ),\n",
        ")\n",
        "trainer.run()"
      ],
      "execution_count": null,
      "outputs": [
        {
          "output_type": "stream",
          "name": "stdout",
          "text": [
            "2023-02-27 10:13:28,560 - INFO - Epoch: 1/2, Iter: 1/26 -- train_loss: 0.8469 \n",
            "2023-02-27 10:13:28,672 - INFO - Epoch: 1/2, Iter: 2/26 -- train_loss: 0.8035 \n",
            "2023-02-27 10:13:28,782 - INFO - Epoch: 1/2, Iter: 3/26 -- train_loss: 0.7352 \n",
            "2023-02-27 10:13:28,901 - INFO - Epoch: 1/2, Iter: 4/26 -- train_loss: 0.7651 \n",
            "2023-02-27 10:13:29,016 - INFO - Epoch: 1/2, Iter: 5/26 -- train_loss: 0.7546 \n",
            "2023-02-27 10:13:29,122 - INFO - Epoch: 1/2, Iter: 6/26 -- train_loss: 0.7322 \n",
            "2023-02-27 10:13:29,236 - INFO - Epoch: 1/2, Iter: 7/26 -- train_loss: 0.7152 \n",
            "2023-02-27 10:13:29,345 - INFO - Epoch: 1/2, Iter: 8/26 -- train_loss: 0.7053 \n",
            "2023-02-27 10:13:29,453 - INFO - Epoch: 1/2, Iter: 9/26 -- train_loss: 0.6757 \n",
            "2023-02-27 10:13:29,581 - INFO - Epoch: 1/2, Iter: 10/26 -- train_loss: 0.6640 \n",
            "2023-02-27 10:13:29,693 - INFO - Epoch: 1/2, Iter: 11/26 -- train_loss: 0.6333 \n",
            "2023-02-27 10:13:29,805 - INFO - Epoch: 1/2, Iter: 12/26 -- train_loss: 0.6236 \n",
            "2023-02-27 10:13:29,925 - INFO - Epoch: 1/2, Iter: 13/26 -- train_loss: 0.5923 \n",
            "2023-02-27 10:13:30,034 - INFO - Epoch: 1/2, Iter: 14/26 -- train_loss: 0.6258 \n",
            "2023-02-27 10:13:30,145 - INFO - Epoch: 1/2, Iter: 15/26 -- train_loss: 0.5822 \n",
            "2023-02-27 10:13:30,253 - INFO - Epoch: 1/2, Iter: 16/26 -- train_loss: 0.5310 \n",
            "2023-02-27 10:13:30,364 - INFO - Epoch: 1/2, Iter: 17/26 -- train_loss: 0.5504 \n",
            "2023-02-27 10:13:30,474 - INFO - Epoch: 1/2, Iter: 18/26 -- train_loss: 0.6031 \n",
            "2023-02-27 10:13:30,590 - INFO - Epoch: 1/2, Iter: 19/26 -- train_loss: 0.5388 \n",
            "2023-02-27 10:13:30,698 - INFO - Epoch: 1/2, Iter: 20/26 -- train_loss: 0.5995 \n",
            "2023-02-27 10:13:30,809 - INFO - Epoch: 1/2, Iter: 21/26 -- train_loss: 0.5589 \n",
            "2023-02-27 10:13:30,919 - INFO - Epoch: 1/2, Iter: 22/26 -- train_loss: 0.6239 \n",
            "2023-02-27 10:13:31,035 - INFO - Epoch: 1/2, Iter: 23/26 -- train_loss: 0.5642 \n",
            "2023-02-27 10:13:31,142 - INFO - Epoch: 1/2, Iter: 24/26 -- train_loss: 0.6361 \n",
            "2023-02-27 10:13:31,235 - INFO - Epoch: 1/2, Iter: 25/26 -- train_loss: 0.5937 \n",
            "2023-02-27 10:13:31,330 - INFO - Epoch: 1/2, Iter: 26/26 -- train_loss: 0.5089 \n",
            "2023-02-27 10:13:31,345 - INFO - Epoch[1] Metrics -- train_meandice: 0.3948 \n",
            "2023-02-27 10:13:31,347 - INFO - Key metric: train_meandice best value: 0.394829124212265 at epoch: 1\n",
            "2023-02-27 10:13:31,759 - INFO - Epoch: 2/2, Iter: 1/26 -- train_loss: 0.5618 \n",
            "2023-02-27 10:13:31,913 - INFO - Epoch: 2/2, Iter: 2/26 -- train_loss: 0.5131 \n",
            "2023-02-27 10:13:32,087 - INFO - Epoch: 2/2, Iter: 3/26 -- train_loss: 0.5007 \n",
            "2023-02-27 10:13:32,251 - INFO - Epoch: 2/2, Iter: 4/26 -- train_loss: 0.5027 \n",
            "2023-02-27 10:13:32,402 - INFO - Epoch: 2/2, Iter: 5/26 -- train_loss: 0.5751 \n",
            "2023-02-27 10:13:32,577 - INFO - Epoch: 2/2, Iter: 6/26 -- train_loss: 0.5979 \n",
            "2023-02-27 10:13:32,716 - INFO - Epoch: 2/2, Iter: 7/26 -- train_loss: 0.5586 \n",
            "2023-02-27 10:13:32,898 - INFO - Epoch: 2/2, Iter: 8/26 -- train_loss: 0.4605 \n",
            "2023-02-27 10:13:33,059 - INFO - Epoch: 2/2, Iter: 9/26 -- train_loss: 0.5373 \n",
            "2023-02-27 10:13:33,213 - INFO - Epoch: 2/2, Iter: 10/26 -- train_loss: 0.5014 \n",
            "2023-02-27 10:13:33,380 - INFO - Epoch: 2/2, Iter: 11/26 -- train_loss: 0.5548 \n",
            "2023-02-27 10:13:33,556 - INFO - Epoch: 2/2, Iter: 12/26 -- train_loss: 0.5731 \n",
            "2023-02-27 10:13:33,723 - INFO - Epoch: 2/2, Iter: 13/26 -- train_loss: 0.6851 \n",
            "2023-02-27 10:13:33,889 - INFO - Epoch: 2/2, Iter: 14/26 -- train_loss: 0.4883 \n",
            "2023-02-27 10:13:34,070 - INFO - Epoch: 2/2, Iter: 15/26 -- train_loss: 0.4625 \n",
            "2023-02-27 10:13:34,197 - INFO - Epoch: 2/2, Iter: 16/26 -- train_loss: 0.4539 \n",
            "2023-02-27 10:13:34,311 - INFO - Epoch: 2/2, Iter: 17/26 -- train_loss: 0.5563 \n",
            "2023-02-27 10:13:34,421 - INFO - Epoch: 2/2, Iter: 18/26 -- train_loss: 0.5336 \n",
            "2023-02-27 10:13:34,541 - INFO - Epoch: 2/2, Iter: 19/26 -- train_loss: 0.5427 \n",
            "2023-02-27 10:13:34,665 - INFO - Epoch: 2/2, Iter: 20/26 -- train_loss: 0.5352 \n",
            "2023-02-27 10:13:34,785 - INFO - Epoch: 2/2, Iter: 21/26 -- train_loss: 0.6517 \n",
            "2023-02-27 10:13:34,898 - INFO - Epoch: 2/2, Iter: 22/26 -- train_loss: 0.4649 \n",
            "2023-02-27 10:13:35,006 - INFO - Epoch: 2/2, Iter: 23/26 -- train_loss: 0.5835 \n",
            "2023-02-27 10:13:35,115 - INFO - Epoch: 2/2, Iter: 24/26 -- train_loss: 0.4639 \n",
            "2023-02-27 10:13:35,222 - INFO - Epoch: 2/2, Iter: 25/26 -- train_loss: 0.4798 \n",
            "2023-02-27 10:13:35,309 - INFO - Epoch: 2/2, Iter: 26/26 -- train_loss: 0.5517 \n",
            "2023-02-27 10:13:35,313 - INFO - Epoch[2] Metrics -- train_meandice: 0.4772 \n",
            "2023-02-27 10:13:35,317 - INFO - Key metric: train_meandice best value: 0.4772198498249054 at epoch: 2\n"
          ]
        }
      ]
    },
    {
      "cell_type": "markdown",
      "metadata": {
        "id": "19T1jA1m6BUY"
      },
      "source": [
        "## Deterministic training\n",
        "Deterministic training support is important for reproducible research.\n",
        "MONAI currently provides two mechanisms:\n",
        "\n",
        "1. set the random state of all the random transforms. This will not affect the global random state. For example:\n",
        "```python\n",
        "# define a transform chain for pre-processing\n",
        "train_transforms = monai.transforms.Compose([\n",
        "    LoadImaged(keys=['image', 'label']),\n",
        "    RandRotate90d(keys=['image', 'label'], prob=0.2, spatial_axes=[0, 2]),\n",
        "    ... ...\n",
        "])\n",
        "# set determinism for reproducibility\n",
        "train_transforms.set_random_state(seed=0)\n",
        "```\n",
        "\n",
        "2. enable deterministic training globally for python, numpy and pytorh in one line of code, for example:\n",
        "```\n",
        "monai.utils.set_determinism(seed=0, additional_settings=None)\n",
        "```"
      ]
    },
    {
      "cell_type": "markdown",
      "metadata": {
        "id": "riewzpdHc12h"
      },
      "source": [
        "## Summary\n",
        "\n",
        "We have walked through the major modules in MONAI. By making highly flexible extensions and wrappers, MONAI enhances the pytorch APIs from a medical image analysis perspective.\n",
        "\n",
        "For details of our latest milestone highlights, please visit https://docs.monai.io/en/latest/highlights.html.\n",
        "\n",
        "To dive into MONAI, the tutorials repository is a good starting point https://github.com/Project-MONAI/tutorials.\n",
        "\n",
        "For API documentation, please visit https://docs.monai.io/en/stable/api.html.\n",
        "\n",
        "`© Project MONAI.`"
      ]
    }
  ]
}